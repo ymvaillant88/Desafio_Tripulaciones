{
 "cells": [
  {
   "attachments": {},
   "cell_type": "markdown",
   "metadata": {},
   "source": [
    "### Herramientas brindadas por el equipo de Data Science para el desarrollo de una aplicación para los estudiantes de EDEM."
   ]
  },
  {
   "attachments": {},
   "cell_type": "markdown",
   "metadata": {},
   "source": [
    "### Notebook para la generación de los datos"
   ]
  },
  {
   "attachments": {},
   "cell_type": "markdown",
   "metadata": {},
   "source": [
    "1. [datos_students:](2_datos_students.ipynb)\n",
    "- Notebook para la generación de los datos de los estudiantes. Se crean diferentes funciones para generar datos aleatorios de los alumnos según la matrícula de EDEM.\n",
    "- Se tuvo en cuenta la distribución de los alumnos brindada por EDEM según las estadísticas de cantidad de estudiantes por carrera y género.\n",
    "- Se generaron los correos de acuerdo al nombre y apellido de los alumnos con dominio EDEM.\n",
    "- De acuerdo a la nacionalidad se le asignó el idioma principal y se generó un nivel de idiomas aleatorio.\n",
    "- Se creó una función para encriptar las contraseñas de los alumnos.\n",
    "- Se asignaron 4 conocimientos e intereses aleatorios (como máximo) a cada alumno de acuerdo a la carrera que cursa.\n",
    "- Se generaron dos archivos: csv y json. El primero para la lectura de los datos en PowerBI y el segundo para la carga de los datos en la base de datos MongoDB.\n",
    "\n",
    "Nota: Para esto se utilizó la librería 'Faker' (la cual genera datos aleatorios de acuerdo a la configuración que se le brinde ) "
   ]
  },
  {
   "attachments": {},
   "cell_type": "markdown",
   "metadata": {},
   "source": [
    "2. [create_course:](3_create_course.ipynb):\n",
    "- Notebook para la generación de los datos de los cursos. Se crean diferentes funciones para generar datos aleatorios de los cursos.\n",
    "- Se tuvo en cuenta la distribución de los cursos brindada por EDEM según las estadísticas de cantidad de cursos por carrera. Con este criterio se definieron 3 listas de cursos en base a los existentes en EDEM: grados, bootcamps y máster.\n",
    "- Se generaron dos archivos: csv y json. El primero para la lectura de los datos en PowerBI y el segundo para la carga de los datos en la base de datos MongoDB.\n",
    "- Se generaron las funciones necesarias para insertar los datos en la base de datos MongoDB."
   ]
  },
  {
   "attachments": {},
   "cell_type": "markdown",
   "metadata": {},
   "source": [
    "3. [create_tags:](4_create_tags.ipynb):\n",
    "\n",
    "- Notebook para la generación de los datos de los tags. 'Tags' refiere a los conocimientos e intereses de los alumnos.\n",
    "- Los conocimientos son las habilidades técnicas que poseen o deben conseguir los alumnos a través los diferentes cursos de EDEM.\n",
    "- Los intereses se refiere a las actividades de ocio que les gusta a los alumnos.\n",
    "- Se crearon diferentes funciones para generar datos aleatorios de los tags.\n",
    "- Se generaron dos archivos: csv y json. El primero para la lectura de los datos en PowerBI y el segundo para la carga de los datos en la base de datos MongoDB.\n",
    "- Se insertaron los datos en la base de datos MongoDB."
   ]
  },
  {
   "attachments": {},
   "cell_type": "markdown",
   "metadata": {},
   "source": [
    "4. [create_students_events:](5_create_students_events.ipynb):\n",
    "\n",
    "- Notebook para insertar los datos de los alumnos creados en el notebook [create_students_events:](create_students_events.ipynb) en la base de datos MongoDB.\n",
    "- Se obtuvieron los tags de los alumnos de la base de datos MongoDB, creados en el notebook [create_tags:](create_tags.ipynb).\n",
    "- Se generaron eventos aleatorios para cada alumno de acuerdo a los tags que tiene.\n",
    "- Se generaron 2 tipos de eventos: \n",
    "    1. Eventos creados por EDEM\n",
    "    2. Eventos creados por los alumnos:\n",
    "        - Eventos de 'conocimientos': se generaron eventos de conocimientos de acuerdo a los tags de los alumnos.\n",
    "        - Eventos de 'ocio': se generaron eventos de ocio de acuerdo a los tags de los alumnos.\n",
    "- Se insertaron los datos de los eventos en la base de datos MongoDB.\n",
    "- Se generaron dos archivos: csv y json. El primero para la lectura de los datos en PowerBI y el segundo para la carga de los datos en la base de datos MongoDB."
   ]
  },
  {
   "attachments": {},
   "cell_type": "markdown",
   "metadata": {},
   "source": [
    "5. [create_news:](6_create_news.ipynb):\n",
    "\n",
    "- Notebook para la generación de los datos de las noticias, obtenidas de la página web de EDEM.\n",
    "- Se scrappearon las noticias de la página web de EDEM.\n",
    "- Se generaron dos archivos: csv y json. El primero para la lectura de los datos en PowerBI y el segundo para la carga de los datos en la base de datos MongoDB.\n",
    "- Se insertaron los datos en la base de datos MongoDB."
   ]
  },
  {
   "attachments": {},
   "cell_type": "markdown",
   "metadata": {},
   "source": [
    "6. [create_canal_difusion:](7_create_canal_difusion.ipynb):\n",
    "\n",
    "- De acuerdo a los eventos y tags de los alumnos se generaron los canales de difusión de los eventos. \n",
    "- Se generaron dos archivos: csv y json. El primero para la lectura de los datos en PowerBI y el segundo para la carga de los datos en la base de datos MongoDB.\n",
    "- Se insertaron los datos de los canales en la base de datos MongoDB."
   ]
  },
  {
   "attachments": {},
   "cell_type": "markdown",
   "metadata": {},
   "source": [
    "7. [estadisticas:](8_estadisticas.ipynb):\n",
    "\n",
    "- Notebook para la generación de las estadísticas de los alumnos.\n",
    "- Se generaron estadísticas de los alumnos de acuerdo a los datos de los alumnos, cursos, tags y eventos.\n",
    "- Se muestran gráficas de interés para EDEM.\n"
   ]
  },
  {
   "attachments": {},
   "cell_type": "markdown",
   "metadata": {},
   "source": [
    "8. [main:](main.ipynb):\n",
    "\n",
    "- Scrip oara conectar con la base de datos MongoDB.\n",
    "- Insertar todos loos datos en BD."
   ]
  },
  {
   "attachments": {},
   "cell_type": "markdown",
   "metadata": {},
   "source": [
    "### Herramienta PowerBI"
   ]
  },
  {
   "attachments": {},
   "cell_type": "markdown",
   "metadata": {},
   "source": [
    "- Se creó un dashboard en PowerBI para la visualización de los datos generados en los notebooks anteriores.\n",
    "- Este dashboard es un prototipo para la aplicación desktop.\n",
    "- Se crearon diferentes gráficas para la visualización de los datos de los alumnos, cursos, tags, eventos, noticias y canales de difusión.\n",
    "- Se crearon diferentes filtros para la visualización de los datos."
   ]
  },
  {
   "attachments": {},
   "cell_type": "markdown",
   "metadata": {},
   "source": [
    "Consta de 4 páginas:\n",
    "\n",
    "**Principal:**\n",
    "- Es el landing page en el cual se puede acceder a las otras páginas.\n",
    "\n",
    "**Main:**\n",
    "- Página general donde se muestran las gráficas del uso de la aplicación.\n",
    "- Se muestran las gráficas del total de alumnos por carrera.\n",
    "- La cantidad de eventos en el mes.\n",
    "- Los eventos del día.\n",
    "\n",
    "**Alumnos:**\n",
    "- En esta página se muestran las gráficas con las estadísticas globales por habilidades técnicas, intereses y ocio de los alumnos.\n",
    "- Además permite seleccionar un alumno y ver sus estadísticas.\n",
    "\n",
    "**Eventos:**\n",
    "- En esta página se muestran los eventos y la cantidad de alumnos que asistieron a cada evento, así como la ubicación de los eventos.\n",
    "- Además permite seleccionar un evento y ver los alumnos que asistirán a dicho evento."
   ]
  },
  {
   "attachments": {},
   "cell_type": "markdown",
   "metadata": {},
   "source": [
    "### Modelos generados para la aplicación y API"
   ]
  },
  {
   "attachments": {},
   "cell_type": "markdown",
   "metadata": {},
   "source": [
    "**1. Algoritmo para generar imagen:**\n",
    "- Se generó un algoritmo para generar una imagen de acuerdo a al título del evento.\n",
    "- Se da la posibilidad que el alumno elija si quiere subir una imagen o que se le genere una imagen de acuerdo a sus intereses.\n",
    "- Utiliza openAI \"DALL-E 2\"."
   ]
  },
  {
   "attachments": {},
   "cell_type": "markdown",
   "metadata": {},
   "source": [
    "Este algoritmo utiliza una solicitud POST para generar una imagen basada en el prompt proporcionado y obtiene la URL o los datos de la imagen generada para su posterior uso."
   ]
  },
  {
   "attachments": {},
   "cell_type": "markdown",
   "metadata": {},
   "source": [
    "**2. Algoritmo para comprobar bad language:**\n",
    "- Se generó un algoritmo para comprobar si los comentarios de los alumnos contienen palabras malsonantes.\n",
    "- Se utiliza una librería llamada \"SPANLP\" configurada al español y parametrizada para banear el texto en caso de malsonantes."
   ]
  },
  {
   "attachments": {},
   "cell_type": "markdown",
   "metadata": {},
   "source": [
    "Este algoritmo utiliza una solicitud POST para verificar si un mensaje o palabra contiene lenguaje ofensivo. Retorna el resultado de la verificación, indicando si el mensaje contiene lenguaje ofensivo o no."
   ]
  },
  {
   "attachments": {},
   "cell_type": "markdown",
   "metadata": {},
   "source": [
    "**3. Algoritmo para mostrar mapa de eventos:**\n",
    "- Se generó un algoritmo mediante google maps para mostrar un mapa con los eventos y la ruta con medio de transporte público.\n",
    "- Se obtienen las tres rutas mas cercanas a EDEM (es la ubicación por defecto)."
   ]
  },
  {
   "attachments": {},
   "cell_type": "markdown",
   "metadata": {},
   "source": [
    "Este algoritmo utiliza una solicitud POST para generar un mapa del lugar o destino proporcionado en la variable prompt. Luego, imprime el contenido del mapa obtenido en la respuesta."
   ]
  },
  {
   "attachments": {},
   "cell_type": "markdown",
   "metadata": {},
   "source": [
    "**4. Algoritmo analisis de sentimiento:**\n",
    "- Se generó un algoritmo para analizar el sentimiento de los comentarios de los alumnos.\n",
    "- Se utilizó una librería entrenada por 800 000 reviews que utiliza una red neuronal convolucional llamada \"sentiment-analysis\""
   ]
  },
  {
   "attachments": {},
   "cell_type": "markdown",
   "metadata": {},
   "source": [
    "Este algoritmo permanece en standby en la api pero es totalmente funcional."
   ]
  },
  {
   "attachments": {},
   "cell_type": "markdown",
   "metadata": {},
   "source": [
    "**5. Algoritmo para generar recomendaciones:**\n",
    "- Se generó un algoritmo para generar recomendaciones de usuarios de acuerdo a los tags.\n"
   ]
  },
  {
   "attachments": {},
   "cell_type": "markdown",
   "metadata": {},
   "source": [
    "**Nota:** Todos los algoritmos se encuentran desplegados en Render."
   ]
  },
  {
   "attachments": {},
   "cell_type": "markdown",
   "metadata": {},
   "source": [
    "### API REST con Flask y MongoDB"
   ]
  },
  {
   "attachments": {},
   "cell_type": "markdown",
   "metadata": {},
   "source": [
    "- En la carpeta API se encuentra el código de la API desplegada en Render. \n",
    "- Esta API se conecta con la base de datos MongoDB y con los algoritmos anteriormente explicados desplegados en Render."
   ]
  },
  {
   "cell_type": "markdown",
   "metadata": {},
   "source": []
  }
 ],
 "metadata": {
  "language_info": {
   "name": "python"
  },
  "orig_nbformat": 4
 },
 "nbformat": 4,
 "nbformat_minor": 2
}
