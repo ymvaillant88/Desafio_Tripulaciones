{
 "cells": [
  {
   "cell_type": "code",
   "execution_count": 2,
   "metadata": {},
   "outputs": [],
   "source": [
    "from sklearn.metrics.pairwise import cosine_similarity\n",
    "import pandas as pd"
   ]
  },
  {
   "attachments": {},
   "cell_type": "markdown",
   "metadata": {},
   "source": [
    "### Hay que correrlo en colab, no funciona en local ya que utiliza librerias de linux (jaxlib)"
   ]
  },
  {
   "cell_type": "code",
   "execution_count": 3,
   "metadata": {},
   "outputs": [],
   "source": [
    "df_users = pd.read_csv('users.csv')\n",
    "df_tags = pd.read_csv('tags.csv')"
   ]
  },
  {
   "cell_type": "code",
   "execution_count": 4,
   "metadata": {},
   "outputs": [],
   "source": [
    "# Convertimos todos los valores de interes a nombre\n",
    "mapping_dict = dict(zip(df_tags['_id'], df_tags['name']))\n",
    "columns_to_update = ['conocimientos[0]', 'conocimientos[1]', 'conocimientos[2]', 'conocimientos[3]',\n",
    "                     'quieroAprender[0]', 'quieroAprender[1]', 'quieroAprender[2]', 'quieroAprender[3]',\n",
    "                     'interests[0]', 'interests[1]', 'interests[2]', 'interests[3]', 'interests[4]']\n",
    "\n",
    "for column in columns_to_update:\n",
    "    df_users[column] = df_users[column].map(mapping_dict)"
   ]
  },
  {
   "attachments": {},
   "cell_type": "markdown",
   "metadata": {},
   "source": [
    "Hay que descomentar todo esto"
   ]
  },
  {
   "cell_type": "code",
   "execution_count": null,
   "metadata": {},
   "outputs": [],
   "source": [
    "#from sentence_transformers import SentenceTransformer\n",
    "# model = SentenceTransformer('sentence-transformers/paraphrase-multilingual-MiniLM-L12-v2')   \n",
    "# # Establecemos las columnas que queremoscomparar\n",
    "# user_embeddings = {}          \n",
    "# for index, row in df_users.iterrows():\n",
    "#     preferences = [str(row[column]) for column in ['conocimientos[0]', 'conocimientos[1]', 'conocimientos[2]',\n",
    "#                                                   'conocimientos[3]', 'quieroAprender[0]', 'quieroAprender[1]',\n",
    "#                                                   'quieroAprender[2]', 'quieroAprender[3]', 'interests[0]',\n",
    "#                                                   'interests[1]', 'interests[2]', 'interests[3]', 'interests[4]']]\n",
    "#     user_embeddings[row['_id']] = model.encode(preferences)           \n",
    "\n",
    "# # Aplicamos el cosine_similarity y recogemss la media        \n",
    "# similarity_scores = cosine_similarity(                                     \n",
    "#     [emb.mean(axis=0) for emb in user_embeddings.values()]                \n",
    "# )\n",
    "\n",
    "# # Supongamos que queremos encontrar usuarios similares al primer usuario en df_users\n",
    "# similar_user_indices = similarity_scores[0].argsort()[-3:][::-1]  # Los índices de los tres usuarios más similares\n",
    "\n",
    "# # guardamos todas las id de los usuarios y seleccionamos los 3 mas parecidos\n",
    "# user_names = df_users['_id'].values.tolist()\n",
    "# recommended_users = [user_names[index] for index in similar_user_indices]\n",
    "\n",
    "# print(recommended_users)"
   ]
  },
  {
   "cell_type": "code",
   "execution_count": 8,
   "metadata": {},
   "outputs": [],
   "source": [
    "# Estos id son un ejemplo\n",
    "recommended_users = ['6487a21ac6fbcccc6873181e', '6487a21ac6fbcccc68731821', '6487a21ac6fbcccc6873189d']"
   ]
  },
  {
   "cell_type": "code",
   "execution_count": 7,
   "metadata": {},
   "outputs": [
    {
     "name": "stdout",
     "output_type": "stream",
     "text": [
      "Nombre: Dott. Calcedonio Canetta\n",
      "Preferencias:\n",
      "- conocimientos[0]: Economía y finanzas\n",
      "- conocimientos[1]: Gestión de la cadena de suministro\n",
      "- conocimientos[2]: Contabilidad y finanzas\n",
      "- conocimientos[3]: Gestión de proyectos\n",
      "- quieroAprender[0]: Programación en Python\n",
      "- quieroAprender[1]: Emprendimiento y creación de empresas\n",
      "- quieroAprender[2]: Marketing y ventas\n",
      "- quieroAprender[3]: Ingeniería de procesos\n",
      "- interests[0]: Viajar\n",
      "- interests[1]: Exposiciones\n",
      "\n",
      "Nombre: Nicolai Warmer\n",
      "Preferencias:\n",
      "- conocimientos[0]: Ingeniería de procesos\n",
      "- conocimientos[1]: Gestión de proyectos\n",
      "- conocimientos[2]: Economía y finanzas\n",
      "- conocimientos[3]: Gestión de la cadena de suministro\n",
      "- quieroAprender[0]: Marketing y ventas\n",
      "- quieroAprender[1]: Gestión de la calidad\n",
      "- quieroAprender[2]: Programación en Python\n",
      "- quieroAprender[3]: Emprendimiento y creación de empresas\n",
      "- interests[0]: Caminar\n",
      "- interests[1]: Baloncesto\n",
      "- interests[2]: Viajar\n",
      "\n",
      "Nombre: Edeltraut Wagenknecht\n",
      "Preferencias:\n",
      "- conocimientos[0]: Contabilidad y finanzas\n",
      "- conocimientos[1]: Gestión de la cadena de suministro\n",
      "- conocimientos[2]: Marketing y ventas\n",
      "- conocimientos[3]: Economía y finanzas\n",
      "- quieroAprender[0]: Emprendimiento y creación de empresas\n",
      "- quieroAprender[1]: Gestión de proyectos\n",
      "- quieroAprender[2]: Gestión de la calidad\n",
      "- quieroAprender[3]: Programación en Python\n",
      "- interests[0]: Turismo\n",
      "\n"
     ]
    }
   ],
   "source": [
    "# Obtener las filas correspondientes a los IDs especificados\n",
    "filtered_df = df_users[df_users['_id'].isin([recommended_users[0], recommended_users[1], recommended_users[2]])]\n",
    "user_names = filtered_df['name'].tolist()\n",
    "user_preferences = {}\n",
    "# Obtener las preferencias de cada usuario\n",
    "for index, row in filtered_df.iterrows():\n",
    "    user_id = row['_id']\n",
    "    user_preferences[user_id] = []\n",
    "    for column in ['conocimientos[0]', 'conocimientos[1]', 'conocimientos[2]', 'conocimientos[3]',\n",
    "                   'quieroAprender[0]', 'quieroAprender[1]', 'quieroAprender[2]', 'quieroAprender[3]',\n",
    "                   'interests[0]', 'interests[1]', 'interests[2]', 'interests[3]', 'interests[4]']:\n",
    "        preference = row[column]\n",
    "        if pd.notnull(preference):  # Verificar si la preferencia no es nula\n",
    "            user_preferences[user_id].append((column, preference))\n",
    "\n",
    "# Mostrar los nombres de los usuarios y sus preferencias\n",
    "for user_id, name in zip([recommended_users[0], recommended_users[1], recommended_users[2]], user_names):\n",
    "    print(f\"Nombre: {name}\")\n",
    "    print(\"Preferencias:\")\n",
    "    for column, preference in user_preferences[user_id]:\n",
    "        print(f\"- {column}: {preference}\")\n",
    "    print()"
   ]
  }
 ],
 "metadata": {
  "kernelspec": {
   "display_name": "ramp_up",
   "language": "python",
   "name": "python3"
  },
  "language_info": {
   "codemirror_mode": {
    "name": "ipython",
    "version": 3
   },
   "file_extension": ".py",
   "mimetype": "text/x-python",
   "name": "python",
   "nbconvert_exporter": "python",
   "pygments_lexer": "ipython3",
   "version": "3.9.16"
  },
  "orig_nbformat": 4
 },
 "nbformat": 4,
 "nbformat_minor": 2
}
